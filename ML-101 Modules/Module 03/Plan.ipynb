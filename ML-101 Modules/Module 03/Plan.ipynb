{
 "cells": [
  {
   "cell_type": "markdown",
   "metadata": {},
   "source": [
    "# Общее название проекта"
   ]
  },
  {
   "cell_type": "markdown",
   "metadata": {},
   "source": [
    "### _\"Детальное название проекта.\"_"
   ]
  },
  {
   "cell_type": "markdown",
   "metadata": {},
   "source": [
    "## Table of Contents\n",
    "\n",
    "\n",
    "## Part 0: Introduction\n",
    "\n",
    "### Overview\n",
    "    О чем этот датасет\n",
    "    +\n",
    "    Метаданные:\n",
    "    \n",
    "* Rank - Ranking of overall sales\n",
    "\n",
    "* Name - The games name\n",
    "\n",
    "* Year - Year of the game's release\n",
    "  \n",
    "### Assumptions\n",
    "    Пояснения/уточнения\n",
    "\n",
    "### Questions:\n",
    "     Вопросы но котороые надо ответить\n",
    "\n",
    "* #### Question 1: \n",
    "* #### Question 2: \n",
    "* #### Question 3: \n",
    "\n",
    "\n",
    "## [Part 1: Import, Settings, Load Data](#Part-1:-Import,-Settings,-Load-Data.)\n",
    "* ### Import libraries, Create settings, Read data from ‘.csv’ file\n",
    "\n",
    "## [Part 2: Exploratory Data Analysis](#Part-2:-Exploratory-Data-Analysis.)\n",
    "* ### Info, Head, Describe \n",
    "* ### Observation of target variable \"...\"\n",
    "* ### Missing Data\n",
    "    * #### List of data features with missing values (visualisation: какую диаграмму, график или плот используем?) \n",
    "    * #### Filling missing values\n",
    "* ### Numerical and Categorical features\n",
    "    * #### List of Numerical and Categorical features\n",
    "    * #### Numerical features:\n",
    "        * Head\n",
    "        * Visualisation of Numerical features (какую диаграмму, график или плот используем?)\n",
    "        * Outliers (visualisation: какую диаграмму, график или плот используем?)\n",
    "        * Correlation Numerical features to the target\n",
    "\n",
    "    * #### Categorical Features:\n",
    "        * Head\n",
    "        * Visualisation of Categorical features (какую диаграмму, график или плот используем?)\n",
    "        * Convert Categorical into Numerical features\n",
    "        * Drop all old Categorical features \n",
    "        \n",
    "    * #### Correlation new features to the target. Drop all features with weak correlation to the target.\n",
    "    * #### Visualisation of all data features with strong correlation to target (visualisation: heatmap)\n",
    "\n",
    "## [Part 3: Data Wrangling and Transformation](#Part-3:-Data-Wrangling-and-Transformation.)\n",
    "* ### Multicollinearity \n",
    "* ### Standard Scaler\n",
    "* ### Creating datasets for ML part\n",
    "* ### 'Train\\Test' splitting method\n",
    "\n",
    "## [Part 4: Machine Learning](#Part-4:-Machine-Learning.)\n",
    "* ### ML Models\n",
    "* ### Build and train a models\n",
    "* ### Evaluate a models\n",
    "     * #### If regression: Mean Squared Error (MSE), Root Mean Squared Error (RMSE), Mean Abolute Error (MAE), R Squared\n",
    "     * #### If Classification: Classification Report and Confusion Matrix \n",
    "* ### Hyper parameters tuning (если надо)\n",
    "* ### Creating final predictions with Test set\n",
    "* ### If Classification: AUC–ROC curve (если надо)\n",
    "\n",
    "## [Conclusion](#Conclusion.)\n",
    "* ### Submission of ‘.csv’ file with predictions\n",
    "\n",
    "\n"
   ]
  },
  {
   "cell_type": "markdown",
   "metadata": {},
   "source": [
    "## Part 1: Import, Settings, Load Data."
   ]
  },
  {
   "cell_type": "markdown",
   "metadata": {},
   "source": [
    "* ### Import "
   ]
  },
  {
   "cell_type": "code",
   "execution_count": null,
   "metadata": {},
   "outputs": [],
   "source": []
  },
  {
   "cell_type": "markdown",
   "metadata": {},
   "source": [
    "* ### Settings"
   ]
  },
  {
   "cell_type": "code",
   "execution_count": null,
   "metadata": {},
   "outputs": [],
   "source": []
  },
  {
   "cell_type": "markdown",
   "metadata": {},
   "source": [
    "* ### Load Data"
   ]
  },
  {
   "cell_type": "code",
   "execution_count": null,
   "metadata": {},
   "outputs": [],
   "source": []
  },
  {
   "cell_type": "markdown",
   "metadata": {},
   "source": [
    "## Part 2: Exploratory Data Analysis."
   ]
  },
  {
   "cell_type": "markdown",
   "metadata": {},
   "source": [
    "## Part 3: Data Wrangling and Transformation."
   ]
  },
  {
   "cell_type": "markdown",
   "metadata": {},
   "source": [
    "## Part 4: Machine Learning."
   ]
  },
  {
   "cell_type": "markdown",
   "metadata": {},
   "source": [
    "## Conclusion."
   ]
  },
  {
   "cell_type": "code",
   "execution_count": null,
   "metadata": {},
   "outputs": [],
   "source": []
  }
 ],
 "metadata": {
  "kernelspec": {
   "display_name": "Python 3",
   "language": "python",
   "name": "python3"
  },
  "language_info": {
   "codemirror_mode": {
    "name": "ipython",
    "version": 3
   },
   "file_extension": ".py",
   "mimetype": "text/x-python",
   "name": "python",
   "nbconvert_exporter": "python",
   "pygments_lexer": "ipython3",
   "version": "3.7.3"
  }
 },
 "nbformat": 4,
 "nbformat_minor": 2
}
